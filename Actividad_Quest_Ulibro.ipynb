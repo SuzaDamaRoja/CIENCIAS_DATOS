{
  "nbformat": 4,
  "nbformat_minor": 0,
  "metadata": {
    "colab": {
      "provenance": []
    },
    "kernelspec": {
      "name": "python3",
      "display_name": "Python 3"
    },
    "language_info": {
      "name": "python"
    }
  },
  "cells": [
    {
      "cell_type": "markdown",
      "source": [
        "# Quest: Apoyando a Ulibro\n",
        "1. Encontrar 5 libros sobre analítica de datos y tomarles foto.\n",
        "2. Encontrar 5 libros sobre inteligancia artificial y tomarles foto.\n",
        "3. Asistir a una conferencia sobre el uso de la tecnología en la sociedad, y sacar tres aspectos claves. ¿Quién es el orador? Realice una breve biografía del autor.\n",
        "- Aspectos relevantes:  \n",
        "1.   Aspecto 1: La oradora se enfoco en que, a los niños menores de 14 años, si se les permite el acceso a redes sociales, se debe tener un control constante sobre las interacciones o actividades que el niño realice en este medio. Se hizo énfasis en que los niños menores a la edad mencionada, deben estar en sitios visibles para los papas para que los puedan controlar de una manera adecuada.\n",
        "2.   Aspecto 2: La oradora menciono que las horas de sueño y la buena alimentación son fundamentales para el desarrollo, no solo de los niños, sino también de los adultos y jóvenes puesto que hoy en día, el ser humano pasa más del 50% conectado a dispositivos móviles. La oradora explicó que para disminuir el impacto por el tiempo gastado hay que tener una alimentación saludable y dormir las horas que están estipuladas según la edad.\n",
        "3.   Aspecto 3: La oradora manifestó que, para disminuir el uso de redes sociales y dispositivos electrónicos, la persona debe hacer una exhaustiva evaluación sobre qué tanta interacción tiene con las demás personas, que actividad física y realiza y cuanto tiempo dedican a su crecimiento personal e intelectual, esto, con el fin de cambiar poco a poco los hábitos adquiridos en pro de mejorar en aspectos tan importantes como los anteriormente mencionados.\n",
        "\n",
        "- Biografía autor: Viviana Quintero es una psicóloga especializada en protección a la niñez en línea, analista de abuso sexual en línea certificada por la Asociación INHOPE, entrenadora para padres de la Asociación de Disciplinas Positivas, consejero de apoyo y formadora de agentes educativos en prevención y detección inicial de violencias sexuales. Actualmente asesora proyectos de articulación intersectorial para la protección de la niñez en entornos digitales financiados por el Fondo para Erradicar la Violencia Contra los Niños (EVAC) de la ONU y la OEA. Fue nombrada una de las 50 mujeres latinoamericanas TOP en ciberseguridad en 2020 por la Red Latinoamericana de Mujeres en Ciberseguridad WOMCY por su trabajo para proteger a la niñez en los entornos digitales.\n",
        "4. Tomar una foto en donde se vea el orador:\n",
        "\n",
        "Link de las fotos (punto 1, 2 y 4): [Fotos Actividad Ulibro Programación](https://docs.google.com/document/d/1NwMiulM6z5jrbNqOIFkYzOhDPmxK-uVBzOVHYY8nZr8/edit?usp=sharing)\n",
        "\n",
        "5. Buscar un dataset relacionado con Ulibro. (Por acuerdo mutuo, se decidio que yo hiciera un daatset con base a mi equipo de fútbol)\n",
        "- Link dataset: [Dataset Real Santander](https://docs.google.com/spreadsheets/d/1fczzjInQ3Hml90jnajJ-VvYRzUAsRXgBeYdTh22ET9Y/edit?usp=sharing)\n"
      ],
      "metadata": {
        "id": "or7y1ofe9zLY"
      }
    }
  ]
}